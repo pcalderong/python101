{
 "cells": [
  {
   "cell_type": "markdown",
   "metadata": {},
   "source": [
    "# Python 101 - Clase 1"
   ]
  },
  {
   "cell_type": "code",
   "execution_count": 6,
   "metadata": {},
   "outputs": [
    {
     "name": "stdout",
     "output_type": "stream",
     "text": [
      "!Hola Mundo desde Python!\n"
     ]
    }
   ],
   "source": [
    "def hola_mundo():\n",
    "    print(\"!Hola Mundo desde Python!\")\n",
    "    \n",
    "hola_mundo()"
   ]
  },
  {
   "cell_type": "markdown",
   "metadata": {},
   "source": [
    "## ¿Qué es Python?\n",
    "* **Lenguaje de programación de alto nivel**\n",
    "* **Interpretado** ( Traducción del instrucción por instrucción, y normalmente no guardan el resultado de dicha traducción.)\n",
    "* **Multiparadigma** (OOP, Funcional, Imperativo)\n",
    "* **Multiplataforma** (Se puede ejecutar en múltiples sistemas operativos)"
   ]
  },
  {
   "cell_type": "markdown",
   "metadata": {},
   "source": [
    "## ¿Cómo instalar ambiente de programación para Python?\n",
    "\n",
    "Para efectos de estas sesiones, primero utilizaremos Jupyter Notebook, conforme logremos ejercicios más complejos, probablemente nos movamos a PyCharm.\n",
    "\n",
    "### Instalar Python\n",
    "1. Descargar el instalador de Windows (https://www.python.org/downloads/release/python-3104/)\n",
    "2. Descargar archivo https://bootstrap.pypa.io/get-pip.py\n",
    "3. Navegar hasta el lugar donde se descargo el archivo\n",
    "4. Ejecutar: `python get-pip.py`\n",
    "\n",
    "### Instalar Jupyter Notebook\n",
    "1. Instalar jupyter ejecutando `pip install jupyter`\n",
    "2. Ejecutar `jupyter notebook`\n",
    "\n",
    "### Configurar Jupyter\n",
    "\n",
    "Jupyter se configura solo, y levanta una sesión web en el navegador de preferencia. Para poder crear un notebook, podemos navegar hasta la dirección en la que queremos guardar el archivo, y clickear New File."
   ]
  },
  {
   "cell_type": "markdown",
   "metadata": {},
   "source": [
    "## Python: Introducción\n",
    "    \n",
    "Python es un lenguaje que se utiliza para scripting, manejo de datos, aplicaciones web... En fin, la lista es infinita, pero es importante tomar en cuenta los siguientes puntos antes de comenzar:\n",
    "1. La importancia de la identación: Python ama ver el código limpio, por lo tanto, para diferenciar jerarquias, utilizamos identacion (como brackets).\n",
    "2. Los dos puntos (:) : después de definir una función, usar un ciclo o un if, los : siempre deben utilizarse\n",
    "3. No es necesario el uso de punto y coma ; \n",
    "4. Es altamente tipado, pero no explicitamente, por lo que debemos tener cuidado con la asignación de valores, utilizar nombre suficientemente claros para las variables y recordar que tipo de dato decidimos utilizar con las variables."
   ]
  },
  {
   "cell_type": "code",
   "execution_count": 14,
   "metadata": {},
   "outputs": [
    {
     "data": {
      "text/plain": [
       "15"
      ]
     },
     "execution_count": 14,
     "metadata": {},
     "output_type": "execute_result"
    }
   ],
   "source": [
    "a = 5\n",
    "b = 10\n",
    "c = a+b\n",
    "c"
   ]
  },
  {
   "cell_type": "code",
   "execution_count": 27,
   "metadata": {},
   "outputs": [
    {
     "data": {
      "text/plain": [
       "'10'"
      ]
     },
     "execution_count": 27,
     "metadata": {},
     "output_type": "execute_result"
    }
   ],
   "source": [
    "a = \"10\"\n",
    "a"
   ]
  },
  {
   "cell_type": "markdown",
   "metadata": {},
   "source": [
    "### Tipos de datos\n",
    "\n",
    "Los tipos de datos que se pueden encontrar en python son: \n",
    "* Integer\n",
    "* Float\n",
    "* Boolean (True/False, siempre en mayúscula)\n",
    "* String\n",
    "* Lista \n",
    "* Tupla \n",
    "* Diccionario\n",
    "* Conjuntos\n",
    "\n",
    "#### ¿Cómo saber el tipo de dato de un objeto? \n",
    "\n",
    "Existen 2 funciones que pueden ayudar a identificar el tipo de un objeto.\n",
    "\n",
    "`type()`: recibe la variable o el objeto y devuelve el tipo de dato asignado\n",
    "`isinstance()`: recibe la variable u objeto, un tipo de dato, y devuelve true si el objeto es del tipo, false si es de un tipo de dato diferente.\n",
    "    "
   ]
  },
  {
   "cell_type": "code",
   "execution_count": 20,
   "metadata": {},
   "outputs": [
    {
     "data": {
      "text/plain": [
       "str"
      ]
     },
     "execution_count": 20,
     "metadata": {},
     "output_type": "execute_result"
    }
   ],
   "source": [
    "type(a)"
   ]
  },
  {
   "cell_type": "code",
   "execution_count": 21,
   "metadata": {},
   "outputs": [
    {
     "data": {
      "text/plain": [
       "int"
      ]
     },
     "execution_count": 21,
     "metadata": {},
     "output_type": "execute_result"
    }
   ],
   "source": [
    "type(b)"
   ]
  },
  {
   "cell_type": "code",
   "execution_count": 28,
   "metadata": {},
   "outputs": [
    {
     "data": {
      "text/plain": [
       "False"
      ]
     },
     "execution_count": 28,
     "metadata": {},
     "output_type": "execute_result"
    }
   ],
   "source": [
    "isinstance(a, int)"
   ]
  },
  {
   "cell_type": "code",
   "execution_count": 29,
   "metadata": {},
   "outputs": [
    {
     "data": {
      "text/plain": [
       "True"
      ]
     },
     "execution_count": 29,
     "metadata": {},
     "output_type": "execute_result"
    }
   ],
   "source": [
    "isinstance(a, str)"
   ]
  },
  {
   "cell_type": "markdown",
   "metadata": {},
   "source": [
    "#### Conversión de tipos de dato"
   ]
  },
  {
   "cell_type": "code",
   "execution_count": 24,
   "metadata": {},
   "outputs": [
    {
     "data": {
      "text/plain": [
       "'10'"
      ]
     },
     "execution_count": 24,
     "metadata": {},
     "output_type": "execute_result"
    }
   ],
   "source": [
    "str(b)"
   ]
  },
  {
   "cell_type": "code",
   "execution_count": 23,
   "metadata": {},
   "outputs": [
    {
     "ename": "ValueError",
     "evalue": "invalid literal for int() with base 10: 'Hola'",
     "output_type": "error",
     "traceback": [
      "\u001b[0;31m---------------------------------------------------------------------------\u001b[0m",
      "\u001b[0;31mValueError\u001b[0m                                Traceback (most recent call last)",
      "\u001b[0;32m<ipython-input-23-8b2ab3991dae>\u001b[0m in \u001b[0;36m<module>\u001b[0;34m\u001b[0m\n\u001b[0;32m----> 1\u001b[0;31m \u001b[0mint\u001b[0m\u001b[0;34m(\u001b[0m\u001b[0ma\u001b[0m\u001b[0;34m)\u001b[0m\u001b[0;34m\u001b[0m\u001b[0;34m\u001b[0m\u001b[0m\n\u001b[0m",
      "\u001b[0;31mValueError\u001b[0m: invalid literal for int() with base 10: 'Hola'"
     ]
    }
   ],
   "source": [
    "# Siempre se debe asegurar que va a ser satisfactorio, es decir, \n",
    "# no podemos transformar un string a un número, pero si un float a un integer.\n",
    "int(a)"
   ]
  },
  {
   "cell_type": "code",
   "execution_count": 25,
   "metadata": {},
   "outputs": [
    {
     "data": {
      "text/plain": [
       "10.0"
      ]
     },
     "execution_count": 25,
     "metadata": {},
     "output_type": "execute_result"
    }
   ],
   "source": [
    "float(b)"
   ]
  },
  {
   "cell_type": "code",
   "execution_count": 26,
   "metadata": {},
   "outputs": [
    {
     "data": {
      "text/plain": [
       "(10+0j)"
      ]
     },
     "execution_count": 26,
     "metadata": {},
     "output_type": "execute_result"
    }
   ],
   "source": [
    "complex(b)"
   ]
  },
  {
   "cell_type": "markdown",
   "metadata": {},
   "source": [
    "### Operadores en Python"
   ]
  },
  {
   "cell_type": "markdown",
   "metadata": {},
   "source": [
    "### Operadores aritméticos"
   ]
  },
  {
   "cell_type": "code",
   "execution_count": 32,
   "metadata": {},
   "outputs": [
    {
     "data": {
      "text/plain": [
       "15"
      ]
     },
     "execution_count": 32,
     "metadata": {},
     "output_type": "execute_result"
    }
   ],
   "source": [
    "\n",
    "# Adición entre los operandos\n",
    "a = 12 + 3\n",
    "a"
   ]
  },
  {
   "cell_type": "code",
   "execution_count": 34,
   "metadata": {},
   "outputs": [
    {
     "data": {
      "text/plain": [
       "9"
      ]
     },
     "execution_count": 34,
     "metadata": {},
     "output_type": "execute_result"
    }
   ],
   "source": [
    "# Substracción entre los operandos \n",
    "b = 12 - 3\n",
    "b"
   ]
  },
  {
   "cell_type": "code",
   "execution_count": 35,
   "metadata": {},
   "outputs": [
    {
     "data": {
      "text/plain": [
       "36"
      ]
     },
     "execution_count": 35,
     "metadata": {},
     "output_type": "execute_result"
    }
   ],
   "source": [
    "# Multiplicación entre los operandos\n",
    "c = 12 * 3\n",
    "c"
   ]
  },
  {
   "cell_type": "code",
   "execution_count": 36,
   "metadata": {},
   "outputs": [
    {
     "data": {
      "text/plain": [
       "4.0"
      ]
     },
     "execution_count": 36,
     "metadata": {},
     "output_type": "execute_result"
    }
   ],
   "source": [
    "# División entre los operandos\n",
    "d = 12 / 3\n",
    "d"
   ]
  },
  {
   "cell_type": "code",
   "execution_count": 37,
   "metadata": {},
   "outputs": [
    {
     "data": {
      "text/plain": [
       "1"
      ]
     },
     "execution_count": 37,
     "metadata": {},
     "output_type": "execute_result"
    }
   ],
   "source": [
    "# Módulo entre los operandos\n",
    "e = 16 % 3\n",
    "e"
   ]
  },
  {
   "cell_type": "code",
   "execution_count": 38,
   "metadata": {},
   "outputs": [
    {
     "data": {
      "text/plain": [
       "1728"
      ]
     },
     "execution_count": 38,
     "metadata": {},
     "output_type": "execute_result"
    }
   ],
   "source": [
    "# Potencia de los operandos\n",
    "f = 12 ** 3\n",
    "f"
   ]
  },
  {
   "cell_type": "code",
   "execution_count": 39,
   "metadata": {},
   "outputs": [
    {
     "data": {
      "text/plain": [
       "3"
      ]
     },
     "execution_count": 39,
     "metadata": {},
     "output_type": "execute_result"
    }
   ],
   "source": [
    "# División con resultado de número entero\n",
    "g = 18 // 5\n",
    "g"
   ]
  },
  {
   "cell_type": "code",
   "execution_count": null,
   "metadata": {},
   "outputs": [],
   "source": [
    "#### Operadores lógicos"
   ]
  },
  {
   "cell_type": "code",
   "execution_count": null,
   "metadata": {},
   "outputs": [],
   "source": [
    "# Devuelve True si el operador de la izquierda es mayor que el operador de la derecha\n",
    "a = 12 > 3 \n",
    "\n",
    "# Devuelve True si el operador de la derecha es mayor que el operador de la izquierda\n",
    "b = 12 < 3\n",
    "\n",
    "# Devuelve True si ambos operandos son iguales\n",
    "c = 12 == 3\n",
    "\n",
    "# Devuelve True si el operador de la izquierda es mayor o igual que el operador de la derecha\n",
    "d = 12 >= 3 \n",
    "\n",
    "# Devuelve True si el operador de la derecha es mayor o igual que el operador de la izquierda\n",
    "e = 12 <= 3 devuelve False\n",
    "\n",
    "# Devuelve True si ambos operandos no son iguales\n",
    "f = 12 != 3\n",
    "\n",
    "Operadores Bit a Bit\n",
    "Un operador bit a bit realiza operaciones en los operandos bit a bit.\n",
    "\n",
    "Consideremos a = 2 (en binario = 10) y b = 3 (en binario = 11) para los siguientes casos.\n",
    "\n",
    "OPERADOR\tDESCRIPCIÓN\tUSO\n",
    "&\tRealiza bit a bit la operación AND en los operandos\ta & b = 2 (Binario: 10 & 11 = 10)\n",
    "|\tRealiza bit a bit la operación OR en los operandos\ta | b = 3 (Binario: 10 | 11 = 11)\n",
    "^\tRealiza bit a bit la operación XOR en los operandos\ta ^ b = 1 (Binario: 10 ^ 11 = 01)\n",
    "~\tRealiza bit a bit la operación NOT bit a bit. Invierte cada bit en el operando\t~a = -3 (Binario: ~(00000010) = (11111101))\n",
    ">>\tRealiza un desplazamiento a la derecha bit a bit. Desplaza los bits del operador de la izquierda a la derecha tantos bits como indica el operador de la derecha\ta >> b = 0 (Binario: 00000010 >> 00000011 = 0)\n",
    "<<\tRealiza un desplazamiento a la izquierda bit a bit. Desplaza los bits del operando de la izquierda a la izquierda tantos bits como especifique el operador de la derecha\ta << b = 16 (Binario: 00000010 << 00000011 = 00001000)\n",
    "Operadores de Asignación\n",
    "Se utiliza un operador de asignación para asignar valores a una variable. Esto generalmente se combina con otros operadores (como aritmética, bit a bit) donde la operación se realiza en los operandos y el resultado se asigna al operando izquierdo.\n",
    "\n",
    "Considera los siguientes ejemplos,\n",
    "\n",
    "a = 18. Aquí = es un operador de asignación, y el resultado se almacena en la variable a.\n",
    "\n",
    "a + = 10. Aquí += es un operador de asignación, y el resultado se almacena en la variable a. Es lo mismo que a = a + 10.\n",
    "\n",
    "OPERADOR\tDESCRIPCIÓN\n",
    "=\ta = 5. El valor 5 es asignado a la variable a\n",
    "+=\ta += 5 es equivalente a a = a + 5\n",
    "-=\ta -= 5 es equivalente a a = a - 5\n",
    "*=\ta *= 3 es equivalente a a = a * 3\n",
    "/=\ta /= 3 es equivalente a a = a / 3\n",
    "%=\ta %= 3 es equivalente a a = a % 3\n",
    "**=\ta **= 3 es equivalente a a = a ** 3\n",
    "//=\ta //= 3 es equivalente a a = a // 3\n",
    "&=\ta &= 3 es equivalente a a = a & 3\n",
    "|=\ta |= 3 es equivalente a a = a | 3\n",
    "^=\ta ^= 3 es equivalente a a = a ^ 3\n",
    ">>=\ta >>= 3 es equivalente a a = a >> 3\n",
    "<<=\ta <<= 3 es equivalente a a = a << 3\n",
    "Operadores Lógicos\n",
    "Se utiliza un operador lógico para tomar una decisión basada en múltiples condiciones. Los operadores lógicos utilizados en Python son  and, or y not.\n",
    "\n",
    "OPERADOR\tDESCRIPCIÓN\tUSO\n",
    "and\tDevuelve True si ambos operandos son True\ta and b\n",
    "or\tDevuelve True si alguno de los operandos es True\ta or b\n",
    "not\tDevuelve True si alguno de los operandos False\tnot a\n",
    "Operadores de Pertenencia\n",
    "Un operador de pertenencia se emplea para identificar pertenencia en alguna secuencia (listas, strings, tuplas).\n",
    "\n",
    "in y not in son operadores de pertenencia.\n",
    "\n",
    "in devuelve True si el valor especificado se encuentra en la secuencia. En caso contrario devuelve False.\n",
    "\n",
    "not in devuelve True si el valor especificado no se encuentra en la secuencia. En caso contrario devuelve False.\n",
    "\n",
    "a = [1,2,3,4,5]\n",
    "  \n",
    "#Esta 3 en la lista a?\n",
    "print 3 in a # Muestra True \n",
    "  \n",
    "#No está 12 en la lista a?\n",
    "print 12 not in a # Muestra True\n",
    "  \n",
    "str = \"Hello World\"\n",
    "  \n",
    "#Contiene World el string str?\n",
    "print \"World\" in str # Muestra True\n",
    "  \n",
    "#Contiene world el string str? (nota: distingue mayúsculas y minúsculas)\n",
    "print \"world\" in str # Muestra False  \n",
    "\n",
    "print \"code\" not in str # Muestra True\n",
    "Operadores de Identidad\n",
    "Un operador de identidad se emplea para comprobar si dos variables emplean la misma ubicación en memoria.\n",
    "\n",
    "is y is not son operadores de identidad.\n",
    "\n",
    "is devuelve True si los operandos se refieren al mismo objeto. En caso contrario devuelve False.\n",
    "\n",
    "is not devuelve True si los operandos no se refieren al mismo objeto. En caso contrario devuelve False.\n",
    "\n",
    "Ten en cuenta que dos valores, cuando son iguales, no implica necesariamente que sean idénticos.\n",
    "\n",
    "a = 3\n",
    "b = 3  \n",
    "c = 4\n",
    "print a is b # muestra True\n",
    "print a is not b # muestra False\n",
    "print a is not c # muestra True\n",
    "\n",
    "x = 1\n",
    "y = x\n",
    "z = y\n",
    "print z is 1 # muestra True\n",
    "print z is x # muestra True\n",
    "\n",
    "str1 = \"FreeCodeCamp\"\n",
    "str2 = \"FreeCodeCamp\"\n",
    "\n",
    "print str1 is str2 # muestra True\n",
    "print \"Code\" is str2 # muestra False\n",
    "\n",
    "a = [10,20,30]\n",
    "b = [10,20,30]\n",
    "\n",
    "print a is b # muestra False (ya que las listas son objetos mutables en Python)"
   ]
  },
  {
   "cell_type": "markdown",
   "metadata": {},
   "source": [
    "#### NOTAS:\n",
    "* Se permiten operaciones entre números de diferentes tipos, el resultado será del tipo del tipo de dato mas grande (complex > float > int)"
   ]
  },
  {
   "cell_type": "markdown",
   "metadata": {},
   "source": [
    "### Estructura de una función\n",
    "\n",
    "* Una función requiere un encabezado, el cuerpo de la función y la respuesta final\n",
    "* Siempre se define una función utilizando la palabra reservada **def**\n",
    "* Los paréntesis del encabezado son obligatorios y es donde se reciben los parámetros para realizar operaciones dinámicas\n",
    "* El nombre de la función nunca debe empezar con números o caracteres especiales, tampoco debe tener espacios.\n",
    "* Existen varias formas de definir el nombre de una funcion:\n",
    " * camelCase\n",
    " * snake_case"
   ]
  },
  {
   "cell_type": "code",
   "execution_count": 40,
   "metadata": {},
   "outputs": [],
   "source": [
    "def my_function():  #encabezado\n",
    "    a=1+2           # cuerpo \n",
    "    return a        # respuesta final"
   ]
  },
  {
   "cell_type": "markdown",
   "metadata": {},
   "source": [
    "Para poder ejecutar una función, se debe llamar de la siguiente manera:"
   ]
  },
  {
   "cell_type": "code",
   "execution_count": 41,
   "metadata": {},
   "outputs": [
    {
     "data": {
      "text/plain": [
       "3"
      ]
     },
     "execution_count": 41,
     "metadata": {},
     "output_type": "execute_result"
    }
   ],
   "source": [
    "my_function()"
   ]
  },
  {
   "cell_type": "markdown",
   "metadata": {},
   "source": [
    "Podemos parametrizar la función:"
   ]
  },
  {
   "cell_type": "code",
   "execution_count": 45,
   "metadata": {},
   "outputs": [
    {
     "data": {
      "text/plain": [
       "3"
      ]
     },
     "execution_count": 45,
     "metadata": {},
     "output_type": "execute_result"
    }
   ],
   "source": [
    "def another_function(i, j): \n",
    "    a=i+j              \n",
    "    return a \n",
    "another_function(1,2)"
   ]
  },
  {
   "cell_type": "code",
   "execution_count": 46,
   "metadata": {},
   "outputs": [
    {
     "data": {
      "text/plain": [
       "14"
      ]
     },
     "execution_count": 46,
     "metadata": {},
     "output_type": "execute_result"
    }
   ],
   "source": [
    "another_function(5,9)"
   ]
  },
  {
   "cell_type": "markdown",
   "metadata": {},
   "source": [
    "## Ejemplos"
   ]
  },
  {
   "cell_type": "code",
   "execution_count": null,
   "metadata": {},
   "outputs": [],
   "source": [
    "### Ejemplo 1\n",
    "# Construya una función que valide si un número es primo"
   ]
  },
  {
   "cell_type": "markdown",
   "metadata": {},
   "source": [
    "## Ejercicios"
   ]
  },
  {
   "cell_type": "markdown",
   "metadata": {},
   "source": [
    "1. Construya una función que retorne los números primos entre 2 valores. Ejemplo: primos(2, 10) -> [2,3,5,7]\n",
    "2. Construya una función que devuelva si un número pertenece a la secuencia de fibonacci: \n",
    "Ejemplo: \n",
    " * is_fib(256) -> false\n",
    " * is_fib(21) -> true\n",
    "3. Construya una función que determine si el parámetro es un número Armstrong.\n",
    "Ejemplo:\n",
    " * is_armstrong(23) -> false\n",
    " * is_armstrong(153) -> true"
   ]
  }
 ],
 "metadata": {
  "kernelspec": {
   "display_name": "Python 3",
   "language": "python",
   "name": "python3"
  },
  "language_info": {
   "codemirror_mode": {
    "name": "ipython",
    "version": 3
   },
   "file_extension": ".py",
   "mimetype": "text/x-python",
   "name": "python",
   "nbconvert_exporter": "python",
   "pygments_lexer": "ipython3",
   "version": "3.8.5"
  }
 },
 "nbformat": 4,
 "nbformat_minor": 4
}
